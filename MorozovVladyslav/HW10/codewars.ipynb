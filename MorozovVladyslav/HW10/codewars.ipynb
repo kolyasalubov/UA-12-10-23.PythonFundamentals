{
 "cells": [
  {
   "cell_type": "markdown",
   "metadata": {},
   "source": [
    "Create a class Ball. Ball objects should accept one argument for \"ball type\" when instantiated.\n",
    "\n",
    "If no arguments are given, ball objects should instantiate with a \"ball type\" of \"regular.\""
   ]
  },
  {
   "cell_type": "code",
   "execution_count": 1,
   "metadata": {},
   "outputs": [],
   "source": [
    "class Ball(object):\n",
    "  def __init__(self, type = \"regular\"):\n",
    "    self.ball_type = type"
   ]
  },
  {
   "cell_type": "markdown",
   "metadata": {},
   "source": [
    "Color Ghost\n",
    "Create a class Ghost\n",
    "\n",
    "Ghost objects are instantiated without any arguments.\n",
    "\n",
    "Ghost objects are given a random color attribute of \"white\" or \"yellow\" or \"purple\" or \"red\" when instantiated"
   ]
  },
  {
   "cell_type": "code",
   "execution_count": 2,
   "metadata": {},
   "outputs": [],
   "source": [
    "import random\n",
    "COLORS = ['white','yellow','purple','red']\n",
    "class Ghost(object):\n",
    "    def __init__(self):\n",
    "        self.color = random.choice(COLORS)\n",
    "    "
   ]
  },
  {
   "cell_type": "markdown",
   "metadata": {},
   "source": [
    "According to the creation myths of the Abrahamic religions, Adam and Eve were the first Humans to wander the Earth.\n",
    "\n",
    "You have to do God's job. The creation method must return an array of length 2 containing objects (representing Adam and Eve). The first object in the array should be an instance of the class Man. The second should be an instance of the class Woman. Both objects have to be subclasses of Human. Your job is to implement the Human, Man and Woman classes."
   ]
  },
  {
   "cell_type": "code",
   "execution_count": null,
   "metadata": {},
   "outputs": [],
   "source": [
    "def God():\n",
    "    #code\n",
    "    return [Man(),Woman()]\n",
    "\n",
    "#code\n",
    "class Human:\n",
    "    pass\n",
    "class Man(Human):\n",
    "    pass\n",
    "class Woman(Human):\n",
    "    pass\n",
    "    "
   ]
  },
  {
   "cell_type": "markdown",
   "metadata": {},
   "source": [
    "Basic Classes, this kata is mainly aimed at the new JS ES6 Update introducing classes\n",
    "\n",
    "Task\n",
    "Your task is to complete this Class, the Person class has been created. You must fill in the Constructor method to accept a name as string and an age as number, complete the get Info property and getInfo method/Info getter which should return johns age is 34"
   ]
  },
  {
   "cell_type": "code",
   "execution_count": null,
   "metadata": {},
   "outputs": [],
   "source": [
    "class Person:\n",
    "    def __init__(self,name,age):\n",
    "#         self.age = age\n",
    "#         self.name  = name\n",
    "        self.info=f\"{name}s age is {age}\""
   ]
  },
  {
   "cell_type": "markdown",
   "metadata": {},
   "source": [
    "Now that we have a Block let's move on to something slightly more complex: a Sphere.\n",
    "\n",
    "Arguments for the constructor\n",
    "radius -> integer or float (do not round it)\n",
    "mass -> integer or float (do not round it)\n",
    "Methods to be defined\n",
    "get_radius()       =>  radius of the Sphere (do not round it)\n",
    "get_mass()         =>  mass of the Sphere (do not round it)\n",
    "get_volume()       =>  volume of the Sphere (rounded to 5 place after the decimal)\n",
    "get_surface_area() =>  surface area of the Sphere (rounded to 5 place after the decimal)\n",
    "get_density()      =>  density of the Sphere (rounded to 5 place after the decimal)\n",
    "Example\n",
    "ball = Sphere(2,50)\n",
    "ball.get_radius() ->       2\n",
    "ball.get_mass() ->         50\n",
    "ball.get_volume() ->       33.51032\n",
    "ball.get_surface_area() -> 50.26548\n",
    "ball.get_density() ->      1.49208\n",
    "Any feedback would be much appreciated"
   ]
  },
  {
   "cell_type": "code",
   "execution_count": null,
   "metadata": {},
   "outputs": [],
   "source": [
    "import math\n",
    "class Sphere(object):\n",
    "    def __init__(self,radius,mass):\n",
    "        self.radius = radius\n",
    "        self.mass = mass\n",
    "        \n",
    "    def get_radius(self):\n",
    "        return self.radius\n",
    "    def get_mass(self):\n",
    "        return self.mass\n",
    "    def get_volume(self):\n",
    "        return round((4/3)*math.pi * pow(self.radius,3),5)\n",
    "    def get_surface_area(self):\n",
    "        return round(4*math.pi*pow(self.radius,2),5)\n",
    "    def get_density(self):\n",
    "        return round(self.mass/self.get_volume(),5)"
   ]
  },
  {
   "cell_type": "markdown",
   "metadata": {},
   "source": [
    "Timmy's quiet and calm work has been suddenly stopped by his project manager (let's call him boss) yelling:\n",
    "\n",
    "- Who named these classes?! Class MyClass? It's ridiculous! I want you to change it to UsefulClass!\n",
    "\n",
    "Tim sighed, he already knew it's gonna be a long day.\n",
    "Few hours later, boss came again:\n",
    "Much better - he said - but now I want to change that class name to SecondUsefulClass,\n",
    "\n",
    "and went off. Although Timmy had no idea why changing name is so important for his boss, he realized, that it's not the end, so he turned to you, his guru, to help him and asked you to prepare some function, which could change name of given class.\n",
    "Note: Proposed function should allow only names with alphanumeric chars (upper & lower letters plus ciphers), but starting only with upper case letter. In other case it should raise an exception.\n",
    "Disclaimer: there are obviously betters way to check class name than in example cases, but let's stick with that, that Timmy yet has to learn them."
   ]
  },
  {
   "cell_type": "code",
   "execution_count": null,
   "metadata": {},
   "outputs": [],
   "source": [
    "import re\n",
    "\n",
    "def is_alphanumeric(input_string):\n",
    "    # Define a regular expression pattern for alphanumeric characters\n",
    "    pattern = re.compile(\"^[a-zA-Z0-9]+$\")\n",
    "\n",
    "    # Use the match function to check if the entire string matches the pattern\n",
    "    return bool(pattern.match(input_string))\n",
    "      \n",
    "def class_name_changer(cls, new_name):\n",
    "    if new_name[0].isupper() == False or is_alphanumeric(new_name)==False :\n",
    "        raise Exception()\n",
    "    \n",
    "    cls.__name__ = new_name\n",
    "    return cls.__name__"
   ]
  }
 ],
 "metadata": {
  "kernelspec": {
   "display_name": "Python 3",
   "language": "python",
   "name": "python3"
  },
  "language_info": {
   "codemirror_mode": {
    "name": "ipython",
    "version": 3
   },
   "file_extension": ".py",
   "mimetype": "text/x-python",
   "name": "python",
   "nbconvert_exporter": "python",
   "pygments_lexer": "ipython3",
   "version": "3.11.6"
  }
 },
 "nbformat": 4,
 "nbformat_minor": 2
}
